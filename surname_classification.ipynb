{
 "cells": [
  {
   "cell_type": "code",
   "execution_count": 2,
   "metadata": {
    "id": "a2c3OOs4MaxQ"
   },
   "outputs": [],
   "source": [
    "import torch\n",
    "import copy\n",
    "from torch import nn\n",
    "from torch.nn.utils.rnn import pack_sequence\n",
    "from collections import Counter\n",
    "import os\n",
    "import torch.nn.functional as F\n",
    "import matplotlib.pyplot as plt\n",
    "import matplotlib.ticker as ticker\n",
    "from torch import utils\n",
    "from functools import partial\n",
    "from sklearn.model_selection import train_test_split\n",
    "import numpy as np\n",
    "import time\n",
    "import itertools"
   ]
  },
  {
   "cell_type": "code",
   "execution_count": 7,
   "metadata": {
    "id": "xHqZly3_MaxS"
   },
   "outputs": [],
   "source": [
    "class LanguageDataset(utils.data.Dataset):\n",
    "    \n",
    "    def __init__(self, directory):\n",
    "        all_chars = set()\n",
    "        lang_names = {}\n",
    "        language_files = os.listdir(directory)\n",
    "        for i, file in enumerate(language_files):\n",
    "            if not file.endswith(\"txt\"):\n",
    "                continue\n",
    "            language = os.path.splitext(os.path.basename(file))[0]\n",
    "            with open(os.path.join(directory, file)) as f:\n",
    "                content = f.read().strip().lower()\n",
    "                all_chars.update(content)\n",
    "                names = content.split(\"\\n\")\n",
    "                lang_names[language] = names\n",
    "        all_chars.discard(\"\\n\")\n",
    "        self.ix_to_char = dict(enumerate(all_chars))\n",
    "        self.char_to_ix = {char : ix for ix, char in self.ix_to_char.items()}\n",
    "        self.ix_to_lang = dict(enumerate(lang_names))\n",
    "        self.lang_to_ix = {lang : ix for ix, lang in self.ix_to_lang.items()}\n",
    "        \n",
    "        self.dataset = []\n",
    "        for lang, names in lang_names.items():\n",
    "            for name in names:\n",
    "                lang_tensor = self.lang_to_tensor(lang)\n",
    "                name_tensor = self.name_to_tensor(name)\n",
    "                self.dataset.append((name_tensor, lang_tensor))\n",
    "                \n",
    "    def lang_to_tensor(self, lang):\n",
    "        return torch.tensor(self.lang_to_ix[lang])\n",
    "    \n",
    "    def name_to_tensor(self, name):\n",
    "        return torch.tensor([self.char_to_ix[char] for char in name])\n",
    "    \n",
    "    def tensor_to_name(self, tensor, one_hot=False):\n",
    "        if one_hot:\n",
    "            return \"\".join((self.ix_to_char[int(ix)] for ix in torch.argmax(tensor, dim=1)))\n",
    "        else:\n",
    "            return \"\".join((self.ix_to_char[int(ix)] for ix in tensor))\n",
    "        \n",
    "    def tensor_to_lang(self, tensor, probs=False):\n",
    "        if probs:\n",
    "            tensor = torch.argmax(tensor)\n",
    "        return self.ix_to_lang[int(tensor)]\n",
    "\n",
    "    def __len__(self):\n",
    "        return len(self.dataset)\n",
    "\n",
    "    def __getitem__(self, index):\n",
    "        return self.dataset[index]"
   ]
  },
  {
   "cell_type": "code",
   "execution_count": 11,
   "metadata": {
    "id": "PepuOSyiMaxU"
   },
   "outputs": [],
   "source": [
    "split = 0.1\n",
    "dataset = LanguageDataset(\"data/names\")\n",
    "\n",
    "y_val = [y for _, y in dataset]\n",
    "train_indices, val_indices = train_test_split(np.arange(len(dataset)), test_size=split, stratify=y_val)\n",
    "train_data = utils.data.Subset(dataset, indices=train_indices)\n",
    "val_data = utils.data.Subset(dataset, indices=val_indices)"
   ]
  },
  {
   "cell_type": "code",
   "execution_count": 13,
   "metadata": {
    "colab": {
     "base_uri": "https://localhost:8080/"
    },
    "id": "9iVPahku-SP-",
    "outputId": "32bca7e6-5c24-432c-e825-a581c57bedc7"
   },
   "outputs": [
    {
     "data": {
      "text/plain": [
       "(17826, 1981)"
      ]
     },
     "execution_count": 13,
     "metadata": {},
     "output_type": "execute_result"
    }
   ],
   "source": [
    "len(train_data), len(val_data)"
   ]
  },
  {
   "cell_type": "markdown",
   "metadata": {},
   "source": [
    "Counter class imbalance by oversampling underrepresented classes"
   ]
  },
  {
   "cell_type": "code",
   "execution_count": 14,
   "metadata": {
    "id": "q87PpgnuMaxV"
   },
   "outputs": [],
   "source": [
    "class_counts = Counter([int(val) for _, val in dataset.dataset])\n",
    "weights = {key: 1 / val for key, val in class_counts.items()}\n",
    "train_weights = [weights[int(val)] for _, val in train_data]\n",
    "val_weights = [weights[int(val)] for _, val in val_data]\n",
    "\n",
    "train_sampler = utils.data.WeightedRandomSampler(train_weights, len(train_weights), True)\n",
    "val_sampler = utils.data.WeightedRandomSampler(val_weights, len(val_weights), True)"
   ]
  },
  {
   "cell_type": "code",
   "execution_count": 15,
   "metadata": {},
   "outputs": [],
   "source": [
    "def get_n_val_samples(n):\n",
    "    it = iter(val_sampler)\n",
    "    for i in range(n):\n",
    "        ix = next(it)\n",
    "        yield val_data[ix][0], val_data[ix][1]"
   ]
  },
  {
   "cell_type": "markdown",
   "metadata": {},
   "source": [
    "Have a look at some validation data:"
   ]
  },
  {
   "cell_type": "code",
   "execution_count": 16,
   "metadata": {},
   "outputs": [
    {
     "name": "stdout",
     "output_type": "stream",
     "text": [
      "Bautista     : Spanish\n",
      "Arendonk     : Dutch\n",
      "Svocak       : Czech\n",
      "Rheem        : Korean\n",
      "Paget        : French\n",
      "Zhui         : Chinese\n",
      "Accorso      : Italian\n",
      "Yeung        : English\n",
      "Botros       : Arabic\n",
      "Dmokhovsky   : Russian\n",
      "Rompay       : Dutch\n",
      "Haibullin    : Russian\n",
      "Bellerose    : French\n",
      "Yakunov      : Russian\n",
      "Lang         : Chinese\n",
      "Kosko        : Czech\n",
      "Ming         : Chinese\n",
      "Mogilevich   : Russian\n",
      "Jeong        : Korean\n",
      "Gudoshin     : Russian\n"
     ]
    }
   ],
   "source": [
    "for x, y in get_n_val_samples(20):\n",
    "    print(f\"{dataset.tensor_to_name(x).capitalize():13}: {dataset.tensor_to_lang(y)}\")"
   ]
  },
  {
   "cell_type": "markdown",
   "metadata": {},
   "source": [
    "Define the model"
   ]
  },
  {
   "cell_type": "code",
   "execution_count": 17,
   "metadata": {
    "id": "e2_BXP-CMaxT"
   },
   "outputs": [],
   "source": [
    "class RNN(nn.Module):\n",
    "    def __init__(self, input_size, hidden_size, num_layers, output_size):\n",
    "        super().__init__()\n",
    "        \n",
    "        self.rnn = nn.RNN(input_size, hidden_size, num_layers)\n",
    "        self.linear = nn.Linear(hidden_size, output_size)\n",
    "        self.softmax = nn.LogSoftmax(dim=1)\n",
    "    \n",
    "    # `x` is PackedSequence, `lengths` contains lengths of sequences in `x`.\n",
    "    def forward(self, x, lengths):\n",
    "        rnn_out, _ = self.rnn(x)\n",
    "        # https://discuss.pytorch.org/t/get-each-sequences-last-item-from-packed-sequence/41118/7\n",
    "        sum_batch_sizes = torch.cat((\n",
    "            torch.zeros(2, dtype=torch.int64),\n",
    "            torch.cumsum(rnn_out.batch_sizes, 0)\n",
    "        ))\n",
    "        sorted_lengths = lengths[rnn_out.sorted_indices]\n",
    "        last_seq_idxs = sum_batch_sizes[sorted_lengths] + torch.arange(lengths.size(0))\n",
    "        last_seq_items = rnn_out.data[last_seq_idxs]\n",
    "        rnn_last_out = last_seq_items[rnn_out.unsorted_indices]\n",
    "        linear_out = self.linear(rnn_last_out)\n",
    "        softmax_out = self.softmax(linear_out)\n",
    "\n",
    "        return softmax_out"
   ]
  },
  {
   "cell_type": "code",
   "execution_count": 18,
   "metadata": {
    "colab": {
     "base_uri": "https://localhost:8080/"
    },
    "id": "RoTY8PeBX1kA",
    "outputId": "67ff85bc-12ff-49bf-95ff-bec4e6fcfe55"
   },
   "outputs": [],
   "source": [
    "device = torch.device(\"cuda:0\" if torch.cuda.is_available() else \"cpu\")"
   ]
  },
  {
   "cell_type": "markdown",
   "metadata": {},
   "source": [
    "Define training and helper functions"
   ]
  },
  {
   "cell_type": "code",
   "execution_count": 19,
   "metadata": {
    "id": "J9EA0XaERSy-"
   },
   "outputs": [],
   "source": [
    "def my_collate(batch, input_size, output_size):\n",
    "    lengths = torch.tensor([len(item[0]) for item in batch])\n",
    "    data = [item[0] for item in batch]\n",
    "    targets = torch.tensor([item[1] for item in batch])\n",
    "    return data, targets, lengths\n",
    "\n",
    "def indices_to_packed(names, input_size):\n",
    "    names = [F.one_hot(item, input_size).float() for item in names]\n",
    "    names_packed = pack_sequence(names, enforce_sorted=False)\n",
    "    return names_packed\n",
    "\n",
    "def infer_and_loss(model, data, labels, lengths, device):\n",
    "    data_packed = indices_to_packed(data, model.rnn.input_size)\n",
    "    data_packed, labels, lengths = data_packed.to(device), labels.to(device), lengths.to(device)\n",
    "    preds = model(data_packed, lengths)\n",
    "    loss = loss_fn(preds, labels)\n",
    "    return loss, preds\n",
    "\n",
    "def get_loader(dataset, batch_size, sampler):\n",
    "    return utils.data.DataLoader(\n",
    "        dataset, \n",
    "        batch_size, \n",
    "        sampler=sampler, \n",
    "        collate_fn=partial(my_collate, input_size=input_size, output_size=output_size)\n",
    "    )\n",
    "\n",
    "def train(num_layers, hidden_size, batch_size, epochs):\n",
    "    train_loader = get_loader(train_data, batch_size, train_sampler)\n",
    "    val_loader = get_loader(val_data, batch_size, val_sampler)\n",
    "    model = RNN(input_size, hidden_size, num_layers, output_size)\n",
    "    optimizer = torch.optim.AdamW(model.parameters())\n",
    "    model.to(device)\n",
    "\n",
    "    train_losses = []\n",
    "    accuracies = []\n",
    "    metrics = {}\n",
    "    duration = 0\n",
    "    best_accuracy = 0\n",
    "    wait = 1\n",
    "    for epoch in range(epochs):\n",
    "        start = time.time()\n",
    "        train_loss = 0\n",
    "        model.train()\n",
    "        for names, langs, lengths in train_loader:\n",
    "            optimizer.zero_grad()\n",
    "            loss, _ = infer_and_loss(model, names, langs, lengths, device)\n",
    "            loss.backward()\n",
    "            optimizer.step()\n",
    "            train_loss += loss.item() * len(names)\n",
    "\n",
    "        train_loss /= len(train_loader.dataset)\n",
    "        train_losses.append(train_loss)\n",
    "\n",
    "        accuracy = 0\n",
    "        lengths_check = 0\n",
    "        with torch.no_grad():\n",
    "            for names, langs, lengths in val_loader:\n",
    "                _, preds = infer_and_loss(model, names, langs, lengths, device)\n",
    "                preds = torch.argmax(preds, dim=1)\n",
    "                accuracy += (preds == langs).sum().float()\n",
    "\n",
    "        accuracy /= len(val_loader.dataset)\n",
    "        accuracies.append(accuracy)\n",
    "\n",
    "        cur_duration = time.time() - start\n",
    "        duration += cur_duration\n",
    "        \n",
    "        log_line = (f\"NUM_LAYERS: {num_layers}, HIDDEN_SIZE: {hidden_size}, \"\n",
    "                    f\"BATCH_SIZE: {batch_size}, \" \n",
    "                    f\"epoch: {epoch}, train loss: {train_loss:.5f}, \"\n",
    "                    f\"accuracy: {accuracy:.5f}\")\n",
    "        print(log_line)\n",
    "        \n",
    "        # Early stopping\n",
    "        if accuracy > best_accuracy:\n",
    "            best_accuracy = accuracy\n",
    "            best_model = copy.deepcopy(model)\n",
    "            wait = 1\n",
    "        else:\n",
    "            if wait >= PATIENCE:\n",
    "                break\n",
    "            wait += 1\n",
    "        \n",
    "    metrics[\"train_losses\"] = train_losses\n",
    "    metrics[\"accuracies\"] = accuracies\n",
    "    return {\"metrics\" : metrics, \"duration\" : duration, \"model\": best_model}"
   ]
  },
  {
   "cell_type": "code",
   "execution_count": 20,
   "metadata": {},
   "outputs": [],
   "source": [
    "input_size = len(dataset.char_to_ix)\n",
    "output_size = len(dataset.lang_to_ix)\n",
    "loss_fn = torch.nn.NLLLoss()"
   ]
  },
  {
   "cell_type": "markdown",
   "metadata": {},
   "source": [
    "If you want to run hyperparameter grid search yourself, uncomment the values in PARAMS"
   ]
  },
  {
   "cell_type": "code",
   "execution_count": 21,
   "metadata": {
    "colab": {
     "base_uri": "https://localhost:8080/"
    },
    "id": "02dUt_W7MaxW",
    "outputId": "8550f9d0-9f8d-499e-c225-77e1261aed1a"
   },
   "outputs": [
    {
     "name": "stdout",
     "output_type": "stream",
     "text": [
      "1.0\n",
      "NUM_LAYERS: 1, HIDDEN_SIZE: 64, BATCH_SIZE: 64, epoch: 0, train loss: 2.28104, accuracy: 0.39929\n",
      "NUM_LAYERS: 1, HIDDEN_SIZE: 64, BATCH_SIZE: 64, epoch: 1, train loss: 1.62383, accuracy: 0.49369\n",
      "NUM_LAYERS: 1, HIDDEN_SIZE: 64, BATCH_SIZE: 64, epoch: 2, train loss: 1.38358, accuracy: 0.51186\n",
      "NUM_LAYERS: 1, HIDDEN_SIZE: 64, BATCH_SIZE: 64, epoch: 3, train loss: 1.26078, accuracy: 0.55528\n",
      "NUM_LAYERS: 1, HIDDEN_SIZE: 64, BATCH_SIZE: 64, epoch: 4, train loss: 1.18207, accuracy: 0.58354\n",
      "NUM_LAYERS: 1, HIDDEN_SIZE: 64, BATCH_SIZE: 64, epoch: 5, train loss: 1.10607, accuracy: 0.58758\n",
      "NUM_LAYERS: 1, HIDDEN_SIZE: 64, BATCH_SIZE: 64, epoch: 6, train loss: 1.04435, accuracy: 0.59970\n",
      "NUM_LAYERS: 1, HIDDEN_SIZE: 64, BATCH_SIZE: 64, epoch: 7, train loss: 0.99667, accuracy: 0.58607\n",
      "NUM_LAYERS: 1, HIDDEN_SIZE: 64, BATCH_SIZE: 64, epoch: 8, train loss: 0.96071, accuracy: 0.57799\n",
      "NUM_LAYERS: 1, HIDDEN_SIZE: 64, BATCH_SIZE: 64, epoch: 9, train loss: 0.90498, accuracy: 0.59515\n",
      "NUM_LAYERS: 1, HIDDEN_SIZE: 64, BATCH_SIZE: 64, epoch: 10, train loss: 0.86532, accuracy: 0.59011\n",
      "NUM_LAYERS: 1, HIDDEN_SIZE: 64, BATCH_SIZE: 64, epoch: 11, train loss: 0.82967, accuracy: 0.62140\n",
      "NUM_LAYERS: 1, HIDDEN_SIZE: 64, BATCH_SIZE: 64, epoch: 12, train loss: 0.78605, accuracy: 0.60575\n",
      "NUM_LAYERS: 1, HIDDEN_SIZE: 64, BATCH_SIZE: 64, epoch: 13, train loss: 0.75924, accuracy: 0.59364\n",
      "NUM_LAYERS: 1, HIDDEN_SIZE: 64, BATCH_SIZE: 64, epoch: 14, train loss: 0.73468, accuracy: 0.59263\n",
      "NUM_LAYERS: 1, HIDDEN_SIZE: 64, BATCH_SIZE: 64, epoch: 15, train loss: 0.71889, accuracy: 0.58152\n",
      "NUM_LAYERS: 1, HIDDEN_SIZE: 64, BATCH_SIZE: 64, epoch: 16, train loss: 0.68437, accuracy: 0.59869\n",
      "NUM_LAYERS: 1, HIDDEN_SIZE: 64, BATCH_SIZE: 64, epoch: 17, train loss: 0.65539, accuracy: 0.56840\n",
      "NUM_LAYERS: 1, HIDDEN_SIZE: 64, BATCH_SIZE: 64, epoch: 18, train loss: 0.62936, accuracy: 0.62039\n",
      "NUM_LAYERS: 1, HIDDEN_SIZE: 64, BATCH_SIZE: 64, epoch: 19, train loss: 0.61592, accuracy: 0.59818\n",
      "NUM_LAYERS: 1, HIDDEN_SIZE: 64, BATCH_SIZE: 64, epoch: 20, train loss: 0.58879, accuracy: 0.59465\n",
      "NUM_LAYERS: 1, HIDDEN_SIZE: 64, BATCH_SIZE: 64, epoch: 21, train loss: 0.58672, accuracy: 0.61030\n",
      "NUM_LAYERS: 1, HIDDEN_SIZE: 64, BATCH_SIZE: 64, epoch: 22, train loss: 0.57098, accuracy: 0.58657\n",
      "NUM_LAYERS: 1, HIDDEN_SIZE: 64, BATCH_SIZE: 64, epoch: 23, train loss: 0.54539, accuracy: 0.58203\n",
      "NUM_LAYERS: 1, HIDDEN_SIZE: 64, BATCH_SIZE: 64, epoch: 24, train loss: 0.53242, accuracy: 0.60020\n",
      "NUM_LAYERS: 1, HIDDEN_SIZE: 64, BATCH_SIZE: 64, epoch: 25, train loss: 0.50799, accuracy: 0.58809\n",
      "NUM_LAYERS: 1, HIDDEN_SIZE: 64, BATCH_SIZE: 64, epoch: 26, train loss: 0.50828, accuracy: 0.60575\n",
      "NUM_LAYERS: 1, HIDDEN_SIZE: 64, BATCH_SIZE: 64, epoch: 27, train loss: 0.48629, accuracy: 0.57345\n",
      "NUM_LAYERS: 1, HIDDEN_SIZE: 64, BATCH_SIZE: 64, epoch: 28, train loss: 0.47951, accuracy: 0.59717\n",
      "NUM_LAYERS: 1, HIDDEN_SIZE: 64, BATCH_SIZE: 64, epoch: 29, train loss: 0.46414, accuracy: 0.61837\n",
      "NUM_LAYERS: 1, HIDDEN_SIZE: 64, BATCH_SIZE: 64, epoch: 30, train loss: 0.45876, accuracy: 0.57446\n",
      "NUM_LAYERS: 1, HIDDEN_SIZE: 64, BATCH_SIZE: 64, epoch: 31, train loss: 0.43992, accuracy: 0.61080\n"
     ]
    }
   ],
   "source": [
    "# Perform a grid search of parameters and choose best model based on validation accuracy\n",
    "EPOCHS = 100\n",
    "PATIENCE = 20\n",
    "results = {}\n",
    "best_acc = 0\n",
    "PARAMS = {\n",
    "    \"num_layers\": [1], # [1, 2]\n",
    "    \"hidden_size\": [64], # [32, 64, 128]\n",
    "    \"batch_size\": [64] # [16, 64, 256]\n",
    "}\n",
    "\n",
    "params_product = list(itertools.product(*PARAMS.values()))\n",
    "for i, (num_layers, hidden_size, batch_size) in enumerate(params_product):\n",
    "    print((i + 1)/len(params_product))\n",
    "    res = train(num_layers, hidden_size, batch_size, EPOCHS)\n",
    "    results[(num_layers, hidden_size, batch_size)] = res\n",
    "    accuracy = max(res[\"metrics\"][\"accuracies\"])\n",
    "    if accuracy > best_acc:\n",
    "        best_model = res[\"model\"]\n",
    "        best_acc = accuracy "
   ]
  },
  {
   "cell_type": "code",
   "execution_count": 22,
   "metadata": {},
   "outputs": [
    {
     "data": {
      "image/png": "[encoded data removed]",
      "text/plain": [
       "<Figure size 432x288 with 2 Axes>"
      ]
     },
     "metadata": {
      "needs_background": "light"
     },
     "output_type": "display_data"
    }
   ],
   "source": [
    "confusion = torch.zeros(output_size, output_size)\n",
    "val_loader = get_loader(val_data, len(val_data), val_sampler)\n",
    "with torch.no_grad():\n",
    "    names, langs, lengths = next(iter(val_loader))\n",
    "    _, preds = infer_and_loss(best_model, names, langs, lengths, device)\n",
    "    preds = torch.argmax(preds, dim=1)\n",
    "    for pred, truth in zip(preds, langs):\n",
    "        confusion[pred][truth] += 1\n",
    "\n",
    "for i in range(output_size):\n",
    "    confusion[i] = confusion[i] / confusion[i].sum()\n",
    "\n",
    "fig = plt.figure()\n",
    "ax = fig.add_subplot()\n",
    "cax = ax.matshow(confusion)\n",
    "fig.colorbar(cax)\n",
    "\n",
    "ixs = list(dataset.ix_to_lang.keys())\n",
    "ax.set_xticks(ixs)\n",
    "ax.set_yticks(ixs)\n",
    "keys = list(dataset.lang_to_ix.keys())\n",
    "ax.set_xticklabels(keys, rotation=90)\n",
    "ax.set_yticklabels(keys)\n",
    "\n",
    "ax.xaxis.set_major_locator(ticker.MultipleLocator(1))\n",
    "ax.yaxis.set_major_locator(ticker.MultipleLocator(1))"
   ]
  },
  {
   "cell_type": "code",
   "execution_count": 14,
   "metadata": {
    "id": "5DbdgY2DMaxY"
   },
   "outputs": [],
   "source": [
    "def predict(name, model, device, n_predictions=3, is_tensor=False):\n",
    "    with torch.no_grad():\n",
    "        if not is_tensor:\n",
    "            name_tensor = dataset.name_to_tensor(name)\n",
    "        else:\n",
    "            name_tensor = name\n",
    "        names_packed = indices_to_packed([name_tensor], input_size).to(device)\n",
    "        output = model(names_packed, torch.tensor(name_tensor.shape))\n",
    "        topv, topi = output.topk(n_predictions, 1, True)\n",
    "        preds = {topi[0][i]: torch.exp(topv[0][i]) for i in range(n_predictions)}\n",
    "        return preds"
   ]
  },
  {
   "cell_type": "markdown",
   "metadata": {},
   "source": [
    "Now let's examine some concrete predictions"
   ]
  },
  {
   "cell_type": "code",
   "execution_count": 16,
   "metadata": {
    "id": "y59DrnEEl-zG"
   },
   "outputs": [
    {
     "name": "stdout",
     "output_type": "stream",
     "text": [
      "Antwerp      : Dutch\n",
      "Predictions:\n",
      "Dutch        : 0.89\n",
      "English      : 0.05\n",
      "German       : 0.04\n",
      "\n",
      "Tian         : Chinese\n",
      "Predictions:\n",
      "Vietnamese   : 0.69\n",
      "Chinese      : 0.29\n",
      "French       : 0.01\n",
      "\n",
      "Quattrocchi  : Italian\n",
      "Predictions:\n",
      "Italian      : 0.85\n",
      "Polish       : 0.07\n",
      "Russian      : 0.03\n",
      "\n",
      "Trinh        : Vietnamese\n",
      "Predictions:\n",
      "Vietnamese   : 0.91\n",
      "German       : 0.05\n",
      "English      : 0.03\n",
      "\n",
      "Eliopoulos   : Greek\n",
      "Predictions:\n",
      "Greek        : 1.00\n",
      "Spanish      : 0.00\n",
      "Italian      : 0.00\n",
      "\n",
      "Basurto      : Portuguese\n",
      "Predictions:\n",
      "Spanish      : 0.51\n",
      "Italian      : 0.43\n",
      "Russian      : 0.03\n",
      "\n",
      "Komine       : Japanese\n",
      "Predictions:\n",
      "Japanese     : 0.49\n",
      "Dutch        : 0.22\n",
      "English      : 0.08\n",
      "\n",
      "Nose         : Japanese\n",
      "Predictions:\n",
      "French       : 0.50\n",
      "Italian      : 0.19\n",
      "English      : 0.11\n",
      "\n",
      "Deforest     : French\n",
      "Predictions:\n",
      "French       : 0.81\n",
      "Dutch        : 0.05\n",
      "English      : 0.05\n",
      "\n",
      "Sokal        : Polish\n",
      "Predictions:\n",
      "Polish       : 0.65\n",
      "Czech        : 0.28\n",
      "Hungarian    : 0.05\n",
      "\n"
     ]
    }
   ],
   "source": [
    "for name, lang in get_n_val_samples(10):\n",
    "    name_readable = dataset.tensor_to_name(name).capitalize()\n",
    "    lang_readable = dataset.tensor_to_lang(lang)\n",
    "    print(f\"{name_readable:13}: {lang_readable}\")\n",
    "    preds = predict(name, best_model, device, is_tensor=True)\n",
    "    print(\"Predictions:\")\n",
    "    preds_l = [f\"{dataset.tensor_to_lang(lang_pred):13}: {prob:.2f}\" for lang_pred, prob in preds.items()]\n",
    "    preds_s = \"\\n\".join(preds_l)\n",
    "    print(preds_s)\n",
    "    print()"
   ]
  },
  {
   "cell_type": "code",
   "execution_count": null,
   "metadata": {},
   "outputs": [],
   "source": []
  }
 ],
 "metadata": {
  "accelerator": "GPU",
  "colab": {
   "collapsed_sections": [],
   "name": "surname_classification.ipynb",
   "provenance": []
  },
  "kernelspec": {
   "display_name": "Python 3",
   "language": "python",
   "name": "python3"
  },
  "language_info": {
   "codemirror_mode": {
    "name": "ipython",
    "version": 3
   },
   "file_extension": ".py",
   "mimetype": "text/x-python",
   "name": "python",
   "nbconvert_exporter": "python",
   "pygments_lexer": "ipython3",
   "version": "3.8.5"
  }
 },
 "nbformat": 4,
 "nbformat_minor": 4
}
